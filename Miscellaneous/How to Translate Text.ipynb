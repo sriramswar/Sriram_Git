{
 "cells": [
  {
   "cell_type": "code",
   "execution_count": 1,
   "metadata": {},
   "outputs": [],
   "source": [
    "# - *- coding: utf- 8 - *-"
   ]
  },
  {
   "cell_type": "code",
   "execution_count": 2,
   "metadata": {},
   "outputs": [],
   "source": [
    "from textblob import TextBlob"
   ]
  },
  {
   "cell_type": "code",
   "execution_count": 4,
   "metadata": {},
   "outputs": [
    {
     "name": "stdout",
     "output_type": "stream",
     "text": [
      " Original word is : Greetings\n",
      " Translated word is : శుభాకాంక్షలు\n"
     ]
    }
   ],
   "source": [
    "En_word=TextBlob(\"Greetings\")\n",
    "#lang=En_word.detect_language()\n",
    "tran_word=En_word.translate(from_lang=\"en\", to=\"te\")\n",
    "print (\" Original word is :\", En_word)\n",
    "print(\" Translated word is :\", tran_word)"
   ]
  },
  {
   "cell_type": "code",
   "execution_count": 6,
   "metadata": {},
   "outputs": [
    {
     "name": "stdout",
     "output_type": "stream",
     "text": [
      " Original word is : మీరు ఎలా ఉన్నారు ?\n",
      " Translated word is : How are you\n"
     ]
    }
   ],
   "source": [
    "Te_word=TextBlob(\"మీరు ఎలా ఉన్నారు ?\")\n",
    "#lang=En_word.detect_language()\n",
    "tran_word=Te_word.translate(from_lang=\"te\", to=\"en\")\n",
    "print (\" Original word is :\", Te_word)\n",
    "print(\" Translated word is :\", tran_word)"
   ]
  },
  {
   "cell_type": "code",
   "execution_count": null,
   "metadata": {},
   "outputs": [],
   "source": []
  }
 ],
 "metadata": {
  "kernelspec": {
   "display_name": "Python 3",
   "language": "python",
   "name": "python3"
  },
  "language_info": {
   "codemirror_mode": {
    "name": "ipython",
    "version": 3
   },
   "file_extension": ".py",
   "mimetype": "text/x-python",
   "name": "python",
   "nbconvert_exporter": "python",
   "pygments_lexer": "ipython3",
   "version": "3.7.1"
  }
 },
 "nbformat": 4,
 "nbformat_minor": 2
}
