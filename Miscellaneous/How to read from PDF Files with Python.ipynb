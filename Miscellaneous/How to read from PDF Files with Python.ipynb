{
 "cells": [
  {
   "cell_type": "markdown",
   "metadata": {},
   "source": [
    "# Read from Python File\n",
    "\n",
    "#### This file is a demo for how to reac a PDF file from python. \n",
    "#### We need to use PyPDF2 package to accomplish this! \n",
    "\n",
    "Use the command 'pip install PyPDF2' . (conda install PyPDF2 does not work)"
   ]
  },
  {
   "cell_type": "code",
   "execution_count": 1,
   "metadata": {},
   "outputs": [],
   "source": [
    "# Importing the required libraries\n",
    "import PyPDF2"
   ]
  },
  {
   "cell_type": "code",
   "execution_count": 2,
   "metadata": {},
   "outputs": [],
   "source": [
    "# Create a PDF File object\n",
    "PDFFileObj=open(\"./xgboost_with_python_mini_course.pdf\",\"rb\")"
   ]
  },
  {
   "cell_type": "code",
   "execution_count": 3,
   "metadata": {},
   "outputs": [],
   "source": [
    "# Create a PDF Reader Object\n",
    "PDFReader=PyPDF2.PdfFileReader(PDFFileObj)"
   ]
  },
  {
   "cell_type": "code",
   "execution_count": 4,
   "metadata": {},
   "outputs": [
    {
     "name": "stdout",
     "output_type": "stream",
     "text": [
      " No of Pages is : 19\n"
     ]
    }
   ],
   "source": [
    "NumPages=PDFReader.numPages\n",
    "print (\" No of Pages is :\", NumPages)"
   ]
  },
  {
   "cell_type": "code",
   "execution_count": 12,
   "metadata": {},
   "outputs": [
    {
     "name": "stdout",
     "output_type": "stream",
     "text": [
      " Page Content is : Lesson04:MonitorPerformanceand\n",
      "EarlyStopping\n",
      "TheXGBoostmodelcanevaluateandreportontheperformanceonatestsetforthemodel\n",
      "duringtraining.Itsupportsthiscapabilitybyspecifyingbothatestdatasetandanevaluation\n",
      "metriconthecallto\n",
      "model.fit()\n",
      "whentrainingthemodelandspecifyingverboseoutput\n",
      "(\n",
      "verbose=True\n",
      ").Forexample,wecanreportonthebinaryerrorrate(\n",
      "error\n",
      ")on\n",
      "astandalonetestset(\n",
      "eval\n",
      "set\n",
      ")whiletraininganXGBoostmodelasfollows:\n",
      "1\n",
      "eval_set=[(X_test,y_test)]\n",
      "2\n",
      "model.fit(X_train,y_train,eval_metric=\n",
      "\"\n",
      "error\n",
      "\"\n",
      ",eval_set=eval_set,verbose=True)\n",
      "Listing5:MonitorPerformanceDuringTraining.\n",
      "Wecanusethisevaluationtostoptrainingoncenofurtherimprovementshavebeenmade\n",
      "tothemodel.Wecandothisbysettingthe\n",
      "early\n",
      "stopping\n",
      "rounds\n",
      "parameterwhencalling\n",
      "model.fit()\n",
      "tothenumberofiterationsthatnoimprovementisseenonthevalidationdataset\n",
      "beforetrainingisstopped.ThefullexampleusingthePimaIndiansOnsetofDiabetesdataset\n",
      "isprovidedbelow.\n",
      "1\n",
      "#\n",
      "exmaple\n",
      "of\n",
      "early\n",
      "stopping\n",
      "2\n",
      "from\n",
      "numpy\n",
      "import\n",
      "loadtxt\n",
      "3\n",
      "from\n",
      "xgboost\n",
      "import\n",
      "XGBClassifier\n",
      "4\n",
      "from\n",
      "sklearn.model_selection\n",
      "import\n",
      "train_test_split\n",
      "5\n",
      "from\n",
      "sklearn.metrics\n",
      "import\n",
      "accuracy_score\n",
      "6\n",
      "#\n",
      "load\n",
      "data\n",
      "7\n",
      "dataset=loadtxt(\n",
      "'\n",
      "pima\n",
      "-\n",
      "indians\n",
      "-\n",
      "diabetes\n",
      ".\n",
      "csv\n",
      "'\n",
      ",delimiter=\n",
      "\"\n",
      ",\n",
      "\"\n",
      ")\n",
      "8\n",
      "#\n",
      "split\n",
      "data\n",
      "into\n",
      "X\n",
      "and\n",
      "y\n",
      "9\n",
      "X=dataset[:,0:8]\n",
      "10\n",
      "Y=dataset[:,8]\n",
      "11\n",
      "#\n",
      "split\n",
      "data\n",
      "into\n",
      "train\n",
      "and\n",
      "test\n",
      "sets\n",
      "12\n",
      "seed=7\n",
      "13\n",
      "test_size=0.33\n",
      "14\n",
      "X_train,X_test,y_train,y_test=train_test_split(X,Y,test_size=test_size,\n",
      "random_state=seed)\n",
      "15\n",
      "#\n",
      "fit\n",
      "model\n",
      "on\n",
      "training\n",
      "data\n",
      "16\n",
      "model=XGBClassifier()\n",
      "17\n",
      "eval_set=[(X_test,y_test)]\n",
      "18\n",
      "model.fit(X_train,y_train,early_stopping_rounds=10,eval_metric=\n",
      "\"\n",
      "logloss\n",
      "\"\n",
      ",\n",
      "eval_set=eval_set,verbose=True)\n",
      "19\n",
      "#\n",
      "make\n",
      "predictions\n",
      "for\n",
      "test\n",
      "data\n",
      "20\n",
      "y_predictions=model.predict(X_test)\n",
      "21\n",
      "#\n",
      "evaluate\n",
      "predictions\n",
      "22\n",
      "accuracy=accuracy_score(y_test,y_predictions)\n",
      "23\n",
      "print\n",
      "(\n",
      "\"\n",
      "Accuracy\n",
      ":\n",
      "%.2\n",
      "f\n",
      "%%\n",
      "\"\n",
      "%(accuracy*100.0))\n",
      "8\n",
      "\n"
     ]
    }
   ],
   "source": [
    "page=PDFReader.getPage(11)\n",
    "pageContent=page.extractText()\n",
    "print (\" Page Content is :\", pageContent)"
   ]
  },
  {
   "cell_type": "code",
   "execution_count": 6,
   "metadata": {},
   "outputs": [],
   "source": [
    "# Close the file object\n",
    "#PDFFileObj.close()"
   ]
  },
  {
   "cell_type": "code",
   "execution_count": null,
   "metadata": {},
   "outputs": [],
   "source": []
  }
 ],
 "metadata": {
  "kernelspec": {
   "display_name": "Python 3",
   "language": "python",
   "name": "python3"
  },
  "language_info": {
   "codemirror_mode": {
    "name": "ipython",
    "version": 3
   },
   "file_extension": ".py",
   "mimetype": "text/x-python",
   "name": "python",
   "nbconvert_exporter": "python",
   "pygments_lexer": "ipython3",
   "version": "3.7.1"
  }
 },
 "nbformat": 4,
 "nbformat_minor": 2
}
